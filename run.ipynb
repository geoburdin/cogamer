{
 "cells": [
  {
   "metadata": {},
   "cell_type": "code",
   "source": [
    "from agents import video_report\n",
    "\n",
    "video_report(\"data/videoplayback.mp4\")"
   ],
   "id": "ad7482483eef7ae8",
   "outputs": [],
   "execution_count": null
  },
  {
   "metadata": {},
   "cell_type": "code",
   "source": "",
   "id": "6c1f16626fb46e8b",
   "outputs": [],
   "execution_count": null
  },
  {
   "metadata": {},
   "cell_type": "code",
   "source": "",
   "id": "a090d92ccefe2490",
   "outputs": [],
   "execution_count": null
  },
  {
   "metadata": {},
   "cell_type": "code",
   "source": [
    "from graphviz import Digraph\n",
    "\n",
    "def create_vertical_workflow_diagram(output_filename='workflow_diagram'):\n",
    "    dot = Digraph(comment='Video Analysis Workflow', format='png')\n",
    "    dot.attr(rankdir='TB', size='A4', fontsize='12')  # Top to Bottom layout\n",
    "\n",
    "    # Define node styles\n",
    "    process_style = {'shape': 'rectangle', 'style': 'filled', 'color': '#AED6F1'}\n",
    "    decision_style = {'shape': 'diamond', 'style': 'filled', 'color': '#F9E79F'}\n",
    "    data_style = {'shape': 'cylinder', 'style': 'filled', 'color': '#A9DFBF'}\n",
    "    ai_style = {'shape': 'ellipse', 'style': 'filled', 'color': '#F5CBA7'}\n",
    "    start_end_style = {'shape': 'oval', 'style': 'filled', 'color': '#A569BD'}\n",
    "\n",
    "    # Start Node\n",
    "    dot.node('A', 'Start:\\nvideo_report(video_path)', **start_end_style)\n",
    "\n",
    "    # Central Video Timeline (Represents the video timeline)\n",
    "    dot.node('Video', 'Video Timeline', shape='plaintext', fontsize='12')\n",
    "\n",
    "    # Process Nodes aligned vertically along the Video Timeline\n",
    "    dot.node('B', 'Extract Frames\\n(extract_frames)', **process_style)\n",
    "    dot.node('C', 'Select Random Frames\\n(random.sample)', **process_style)\n",
    "    dot.node('D', 'Detect Game & Focus Points\\n(detect_game_and_focus_points)', **process_style)\n",
    "    dot.node('E', 'Initialize Context\\n(Context)', **process_style)\n",
    "    dot.node('F', 'Analyze 10s Frame Batch\\n(analyze_frame)', **process_style)\n",
    "    dot.node('G', 'Summarize Results\\n(summarize_results)', **process_style)\n",
    "    dot.node('H', 'Generate End Report\\n(generate_end_report)', **process_style)\n",
    "    dot.node('I', 'End:\\nReturn Report', **start_end_style)\n",
    "\n",
    "    # AI Model Interfaces\n",
    "    dot.node('M1', 'AI:\\nDetect Game & Focus Points', **ai_style)\n",
    "    dot.node('M2', 'AI:\\nFrame Analysis', **ai_style)\n",
    "    dot.node('M3', 'AI:\\nEnd Report Generation', **ai_style)\n",
    "\n",
    "    # Data Stores\n",
    "    dot.node('DS1', 'data/frame_<id>_analysis.json', **data_style)\n",
    "    dot.node('DS2', 'data/summary.json', **data_style)\n",
    "    dot.node('DS3', 'data/end_report.txt', **data_style)\n",
    "\n",
    "    # Decision Nodes for Error Handling\n",
    "    dot.node('P', 'Handle Detection Error', **decision_style)\n",
    "    dot.node('Q', 'Handle Parsing Error', **decision_style)\n",
    "\n",
    "    # Define edges\n",
    "    dot.edge('A', 'B')\n",
    "    dot.edge('B', 'C')\n",
    "    dot.edge('C', 'D')\n",
    "    dot.edge('D', 'M1')\n",
    "    dot.edge('M1', 'E')\n",
    "    dot.edge('E', 'F')\n",
    "    dot.edge('F', 'M2')\n",
    "    dot.edge('M2', 'DS1')\n",
    "    dot.edge('DS1', 'F', label='Loop for Next 10s Batch', style='dashed')\n",
    "    dot.edge('F', 'G')\n",
    "    dot.edge('G', 'DS2')\n",
    "    dot.edge('G', 'H')\n",
    "    dot.edge('H', 'M3')\n",
    "    dot.edge('M3', 'DS3')\n",
    "    dot.edge('DS3', 'I')\n",
    "\n",
    "    # Error Handling\n",
    "    dot.edge('D', 'P', label='Failure', style='dotted')\n",
    "    dot.edge('P', 'I')\n",
    "    dot.edge('F', 'Q', label='Parse Error', style='dotted')\n",
    "    dot.edge('Q', 'I')\n",
    "\n",
    "    # Connect to Central Video Timeline\n",
    "    dot.edge('A', 'Video', style='invis')  # Invisible edge to position\n",
    "    dot.edge('Video', 'B', style='invis')  # Invisible edge to position\n",
    "    dot.edge('Video', 'C', style='invis')\n",
    "    dot.edge('Video', 'D', style='invis')\n",
    "    dot.edge('Video', 'E', style='invis')\n",
    "    dot.edge('Video', 'F', style='invis')\n",
    "    dot.edge('Video', 'G', style='invis')\n",
    "    dot.edge('Video', 'H', style='invis')\n",
    "    dot.edge('Video', 'I', style='invis')\n",
    "\n",
    "    # Render the graph\n",
    "    dot.render(filename=output_filename, view=True)\n",
    "    print(f\"Diagram '{output_filename}.png' has been generated and opened.\")\n",
    "\n",
    "if __name__ == \"__main__\":\n",
    "    create_vertical_workflow_diagram()\n"
   ],
   "id": "c0f9270653b649a8",
   "outputs": [],
   "execution_count": null
  },
  {
   "metadata": {},
   "cell_type": "code",
   "source": "",
   "id": "c37fe3802f80d9bb",
   "outputs": [],
   "execution_count": null
  },
  {
   "metadata": {
    "jupyter": {
     "is_executing": true
    }
   },
   "cell_type": "code",
   "source": [
    "import ssl\n",
    "import websockets\n",
    "import asyncio, os\n",
    "YOUR_API_KEY = os.getenv(\"GEMINI_API_KEY\")\n",
    "async def test_connection():\n",
    "    uri = f\"wss://generativelanguage.googleapis.com/ws/google.ai.generativelanguage.v1alpha.GenerativeService.BidiGenerateContent?key={YOUR_API_KEY}\"\n",
    "    async with websockets.connect(uri, ssl=ssl.create_default_context()) as ws:\n",
    "        print(\"Connected successfully\")\n",
    "\n",
    "asyncio.run(test_connection())\n"
   ],
   "id": "f02aa2e4743e90ea",
   "outputs": [],
   "execution_count": null
  }
 ],
 "metadata": {
  "kernelspec": {
   "display_name": "Python 3",
   "language": "python",
   "name": "python3"
  },
  "language_info": {
   "codemirror_mode": {
    "name": "ipython",
    "version": 2
   },
   "file_extension": ".py",
   "mimetype": "text/x-python",
   "name": "python",
   "nbconvert_exporter": "python",
   "pygments_lexer": "ipython2",
   "version": "2.7.6"
  }
 },
 "nbformat": 4,
 "nbformat_minor": 5
}
